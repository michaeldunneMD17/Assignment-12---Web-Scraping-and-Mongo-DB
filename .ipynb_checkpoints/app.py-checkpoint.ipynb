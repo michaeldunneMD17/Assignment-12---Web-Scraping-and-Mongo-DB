{
 "cells": [
  {
   "cell_type": "code",
   "execution_count": null,
   "id": "3abf0e4d",
   "metadata": {},
   "outputs": [],
   "source": [
    "import sys\n",
    "from flask import Flask, render_template, jsonify, redirect\n",
    "import pymongo\n",
    "import scrape_mars\n",
    "\n",
    "sys.setrecursionlimit(2000)\n",
    "app = Flask(__name__)\n",
    "\n",
    "client = pymongo.MongoClient()\n",
    "db = client.mars_db\n",
    "collection = db.mars_facts\n",
    "\n",
    "@app.route('/scrape')\n",
    "def scrape():\n",
    "    mars = scrape_mars.scrape()\n",
    "    print(\"\\n\\n\\n\")\n",
    "\n",
    "    db.mars_facts.insert_one(mars)\n",
    "    return \"Some scrapped data\"\n",
    "\n",
    "@app.route(\"/\")\n",
    "def home():\n",
    "    mars = list(db.mars_facts.find())\n",
    "    print(mars)\n",
    "    return render_template(\"index.html\", mars = mars)\n",
    "\n",
    "if __name__ == \"__main__\":\n",
    "    app.run(debug=True)"
   ]
  }
 ],
 "metadata": {
  "kernelspec": {
   "display_name": "Python 3 (ipykernel)",
   "language": "python",
   "name": "python3"
  },
  "language_info": {
   "codemirror_mode": {
    "name": "ipython",
    "version": 3
   },
   "file_extension": ".py",
   "mimetype": "text/x-python",
   "name": "python",
   "nbconvert_exporter": "python",
   "pygments_lexer": "ipython3",
   "version": "3.9.7"
  }
 },
 "nbformat": 4,
 "nbformat_minor": 5
}
